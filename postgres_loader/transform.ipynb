{
 "cells": [
  {
   "cell_type": "code",
   "execution_count": 1,
   "id": "087c33b8",
   "metadata": {},
   "outputs": [],
   "source": [
    "import os\n",
    "from dotenv import load_dotenv\n",
    "import sqlalchemy\n",
    "from sqlalchemy import MetaData, Table, Column, Integer, String, Float, select\n",
    "from sqlalchemy.schema import MetaData\n",
    "from sqlalchemy.orm import sessionmaker"
   ]
  },
  {
   "cell_type": "code",
   "execution_count": 2,
   "id": "dc6d9556",
   "metadata": {},
   "outputs": [
    {
     "data": {
      "text/plain": [
       "True"
      ]
     },
     "execution_count": 2,
     "metadata": {},
     "output_type": "execute_result"
    }
   ],
   "source": [
    "load_dotenv()"
   ]
  },
  {
   "cell_type": "code",
   "execution_count": 3,
   "id": "3043c7a4",
   "metadata": {},
   "outputs": [],
   "source": [
    "DB_ENDPOINT = 'localhost' # default .env points to a host that only applies in a Docker container\n",
    "DB_NAME = os.getenv('DB_NAME')\n",
    "DB_USER = os.getenv('SQLALCHEMY_DATABASE_USER')\n",
    "DB_PASS = os.getenv('SQLALCHEMY_DATABASE_PASS')\n",
    "DB_PORT = 5432"
   ]
  },
  {
   "cell_type": "code",
   "execution_count": 4,
   "id": "bab088c3",
   "metadata": {},
   "outputs": [],
   "source": [
    "# helpers\n",
    "def get_uri(db_username: str, db_password: str) -> str:\n",
    "    \"\"\"\n",
    "    Return database URI\n",
    "    \"\"\"\n",
    "    return f\"postgresql://{db_username}:{db_password}@{DB_ENDPOINT}:{DB_PORT}/{DB_NAME}\"\n",
    "\n",
    "\n",
    "def create_engine(db_username: str, db_password: str):\n",
    "    return sqlalchemy.create_engine(get_uri(db_username, db_password))"
   ]
  },
  {
   "cell_type": "code",
   "execution_count": 5,
   "id": "6331c674",
   "metadata": {},
   "outputs": [
    {
     "data": {
      "text/plain": [
       "dict_keys(['2012_staging_c2012_a', '2012_staging_c2012_b', '2012_staging_c2012_c', '2012_staging_hd2012', '2013_staging_c2013_a', '2013_staging_c2013_b', '2013_staging_c2013_c', '2013_staging_hd2013', '2014_staging_c2014_a', '2014_staging_c2014_b', '2014_staging_c2014_c', '2014_staging_hd2014', '2015_staging_c2015_a', '2015_staging_c2015_b', '2015_staging_c2015_c', '2015_staging_hd2015', '2016_staging_c2016_a', '2016_staging_c2016_b', '2016_staging_c2016_c', '2016_staging_hd2016', '2017_staging_c2017_a', '2017_staging_c2017_b', '2017_staging_c2017_c', '2017_staging_hd2017', '2018_staging_c2018_a', '2018_staging_c2018_b', '2018_staging_c2018_c', '2018_staging_hd2018', '2019_staging_c2019_a', '2019_staging_c2019_b', '2019_staging_c2019_c', '2019_staging_hd2019'])"
      ]
     },
     "execution_count": 5,
     "metadata": {},
     "output_type": "execute_result"
    }
   ],
   "source": [
    "engine = create_engine(DB_USER, DB_PASS)\n",
    "meta = MetaData()\n",
    "meta.reflect(bind=engine)\n",
    "\n",
    "\n",
    "meta.tables.keys()  "
   ]
  },
  {
   "cell_type": "code",
   "execution_count": 6,
   "id": "ae18f592",
   "metadata": {},
   "outputs": [],
   "source": [
    "# saving clever sorting solutions for another time\n",
    "c20xx_a = [\n",
    "    {'table_name': '2012_staging_c2012_a', 'reporting_year': 2012},\n",
    "    {'table_name': '2013_staging_c2013_a', 'reporting_year': 2013},\n",
    "    {'table_name': '2014_staging_c2014_a', 'reporting_year': 2014},\n",
    "    {'table_name': '2015_staging_c2015_a', 'reporting_year': 2015},\n",
    "    {'table_name': '2016_staging_c2016_a', 'reporting_year': 2016},\n",
    "    {'table_name': '2017_staging_c2017_a', 'reporting_year': 2017},\n",
    "    {'table_name': '2018_staging_c2018_a', 'reporting_year': 2018},\n",
    "    {'table_name': '2019_staging_c2019_a', 'reporting_year': 2019}\n",
    "]\n",
    "\n",
    "c20xx_b = [\n",
    "    {'table_name': '2012_staging_c2012_b', 'reporting_year': 2012},\n",
    "    {'table_name': '2013_staging_c2013_b', 'reporting_year': 2013},\n",
    "    {'table_name': '2014_staging_c2014_b', 'reporting_year': 2014},\n",
    "    {'table_name': '2015_staging_c2015_b', 'reporting_year': 2015},\n",
    "    {'table_name': '2016_staging_c2016_b', 'reporting_year': 2016},\n",
    "    {'table_name': '2017_staging_c2017_b', 'reporting_year': 2017},\n",
    "    {'table_name': '2018_staging_c2018_b', 'reporting_year': 2018},\n",
    "    {'table_name': '2019_staging_c2019_b', 'reporting_year': 2019}\n",
    "]\n",
    "\n",
    "c20xx_c = [\n",
    "    {'table_name': '2012_staging_c2012_c', 'reporting_year': 2012},\n",
    "    {'table_name': '2013_staging_c2013_c', 'reporting_year': 2013},\n",
    "    {'table_name': '2014_staging_c2014_c', 'reporting_year': 2014},\n",
    "    {'table_name': '2015_staging_c2015_c', 'reporting_year': 2015},\n",
    "    {'table_name': '2016_staging_c2016_c', 'reporting_year': 2016},\n",
    "    {'table_name': '2017_staging_c2017_c', 'reporting_year': 2017},\n",
    "    {'table_name': '2018_staging_c2018_c', 'reporting_year': 2018},\n",
    "    {'table_name': '2019_staging_c2019_c', 'reporting_year': 2019}\n",
    "]\n",
    "\n",
    "hd20xx = [\n",
    "    {'table_name': '2012_staging_hd2012', 'reporting_year': 2012},\n",
    "    {'table_name': '2013_staging_hd2013', 'reporting_year': 2013},\n",
    "    {'table_name': '2014_staging_hd2014', 'reporting_year': 2014},\n",
    "    {'table_name': '2015_staging_hd2015', 'reporting_year': 2015},\n",
    "    {'table_name': '2016_staging_hd2016', 'reporting_year': 2016},\n",
    "    {'table_name': '2017_staging_hd2017', 'reporting_year': 2017},\n",
    "    {'table_name': '2018_staging_hd2018', 'reporting_year': 2018},\n",
    "    {'table_name': '2019_staging_hd2019', 'reporting_year': 2019}\n",
    "]"
   ]
  },
  {
   "cell_type": "code",
   "execution_count": 7,
   "id": "ebaa462e",
   "metadata": {},
   "outputs": [],
   "source": [
    "def compare_columns(table_set):\n",
    "    column_sets = []\n",
    "    for table in table_set:\n",
    "        column_sets.append(meta.tables[table['table_name']].columns.keys())\n",
    "\n",
    "    columns_mismatched = False\n",
    "\n",
    "    for set in column_sets:\n",
    "        if set != column_sets[0]:\n",
    "            columns_mismatched = True\n",
    "\n",
    "    if columns_mismatched:\n",
    "        print(\"Columns are mis-matched between years\")\n",
    "    else:\n",
    "        print(\"Columns match across years\")\n",
    "    "
   ]
  },
  {
   "cell_type": "code",
   "execution_count": 8,
   "id": "3ffd2adb",
   "metadata": {},
   "outputs": [
    {
     "name": "stdout",
     "output_type": "stream",
     "text": [
      "[{'table_name': '2012_staging_c2012_a', 'reporting_year': 2012}, {'table_name': '2013_staging_c2013_a', 'reporting_year': 2013}, {'table_name': '2014_staging_c2014_a', 'reporting_year': 2014}, {'table_name': '2015_staging_c2015_a', 'reporting_year': 2015}, {'table_name': '2016_staging_c2016_a', 'reporting_year': 2016}, {'table_name': '2017_staging_c2017_a', 'reporting_year': 2017}, {'table_name': '2018_staging_c2018_a', 'reporting_year': 2018}, {'table_name': '2019_staging_c2019_a', 'reporting_year': 2019}]\n",
      "Columns are mis-matched between years\n",
      "[{'table_name': '2012_staging_c2012_b', 'reporting_year': 2012}, {'table_name': '2013_staging_c2013_b', 'reporting_year': 2013}, {'table_name': '2014_staging_c2014_b', 'reporting_year': 2014}, {'table_name': '2015_staging_c2015_b', 'reporting_year': 2015}, {'table_name': '2016_staging_c2016_b', 'reporting_year': 2016}, {'table_name': '2017_staging_c2017_b', 'reporting_year': 2017}, {'table_name': '2018_staging_c2018_b', 'reporting_year': 2018}, {'table_name': '2019_staging_c2019_b', 'reporting_year': 2019}]\n",
      "Columns match across years\n",
      "[{'table_name': '2012_staging_c2012_c', 'reporting_year': 2012}, {'table_name': '2013_staging_c2013_c', 'reporting_year': 2013}, {'table_name': '2014_staging_c2014_c', 'reporting_year': 2014}, {'table_name': '2015_staging_c2015_c', 'reporting_year': 2015}, {'table_name': '2016_staging_c2016_c', 'reporting_year': 2016}, {'table_name': '2017_staging_c2017_c', 'reporting_year': 2017}, {'table_name': '2018_staging_c2018_c', 'reporting_year': 2018}, {'table_name': '2019_staging_c2019_c', 'reporting_year': 2019}]\n",
      "Columns match across years\n",
      "[{'table_name': '2012_staging_hd2012', 'reporting_year': 2012}, {'table_name': '2013_staging_hd2013', 'reporting_year': 2013}, {'table_name': '2014_staging_hd2014', 'reporting_year': 2014}, {'table_name': '2015_staging_hd2015', 'reporting_year': 2015}, {'table_name': '2016_staging_hd2016', 'reporting_year': 2016}, {'table_name': '2017_staging_hd2017', 'reporting_year': 2017}, {'table_name': '2018_staging_hd2018', 'reporting_year': 2018}, {'table_name': '2019_staging_hd2019', 'reporting_year': 2019}]\n",
      "Columns are mis-matched between years\n"
     ]
    }
   ],
   "source": [
    "for table_set in [c20xx_a, c20xx_b, c20xx_c, hd20xx]:\n",
    "    print(table_set)\n",
    "    compare_columns(table_set)"
   ]
  },
  {
   "cell_type": "markdown",
   "id": "5a996feb",
   "metadata": {},
   "source": [
    "Looks like we'll just have to pull specified columns of interest 😢"
   ]
  },
  {
   "cell_type": "code",
   "execution_count": 9,
   "id": "0e9f5a8a",
   "metadata": {},
   "outputs": [],
   "source": [
    "c20xx_a_model = Table(\n",
    "   'c20xx_a', meta, \n",
    "   Column('index', Integer, primary_key = True),\n",
    "   Column('reporting_year', Integer),\n",
    "   Column('unitid', Integer),\n",
    "   Column('cipcode', Float), \n",
    "   Column('awlevel', Integer),\n",
    "   Column('majornum', Integer), \n",
    "   Column('cnralm', Integer), \n",
    "   Column('cnralw', Integer), \n",
    "   Column('cunknm', Integer), \n",
    "   Column('cunknw', Integer), \n",
    "   Column('ctotalm', Integer), \n",
    "   Column('ctotalw', Integer), \n",
    "   Column('cnralt', Integer), \n",
    "   Column('cunknt', Integer), \n",
    "   Column('ctotalt', Integer), \n",
    "   Column('chispm', Integer), \n",
    "   Column('chispw', Integer), \n",
    "   Column('caianm', Integer), \n",
    "   Column('caianw', Integer), \n",
    "   Column('casiam', Integer), \n",
    "   Column('casiaw', Integer), \n",
    "   Column('cbkaam', Integer), \n",
    "   Column('cbkaaw', Integer), \n",
    "   Column('cnhpim', Integer), \n",
    "   Column('cnhpiw', Integer), \n",
    "   Column('cwhitm', Integer), \n",
    "   Column('cwhitw', Integer), \n",
    "   Column('c2morm', Integer), \n",
    "   Column('c2morw', Integer), \n",
    "   Column('chispt', Integer), \n",
    "   Column('caiant', Integer), \n",
    "   Column('casiat', Integer), \n",
    "   Column('cbkaat', Integer), \n",
    "   Column('cnhpit', Integer), \n",
    "   Column('cwhitt', Integer), \n",
    "   Column('c2mort', Integer)\n",
    ")\n",
    "meta.create_all(engine)"
   ]
  },
  {
   "cell_type": "code",
   "execution_count": 10,
   "id": "3e699a1d",
   "metadata": {},
   "outputs": [],
   "source": [
    "Session = sessionmaker(engine)\n",
    "\n",
    "def insert_table_c20xx_a(table_name: str, table_reporting_year: int):\n",
    "    with Session() as session:\n",
    "        sel = select([\n",
    "            sqlalchemy.sql.expression.literal(table_reporting_year),\n",
    "            meta.tables[table_name].columns.UNITID,\n",
    "            meta.tables[table_name].columns.CIPCODE,\n",
    "            meta.tables[table_name].columns.AWLEVEL,\n",
    "            meta.tables[table_name].columns.MAJORNUM,\n",
    "            meta.tables[table_name].columns.CNRALM,\n",
    "            meta.tables[table_name].columns.CNRALW,\n",
    "            meta.tables[table_name].columns.CUNKNM,\n",
    "            meta.tables[table_name].columns.CUNKNW,\n",
    "            meta.tables[table_name].columns.CTOTALM,\n",
    "            meta.tables[table_name].columns.CTOTALW,\n",
    "            meta.tables[table_name].columns.CNRALT,\n",
    "            meta.tables[table_name].columns.CUNKNT,\n",
    "            meta.tables[table_name].columns.CTOTALT,\n",
    "            meta.tables[table_name].columns.CHISPM,\n",
    "            meta.tables[table_name].columns.CHISPW,\n",
    "            meta.tables[table_name].columns.CAIANM,\n",
    "            meta.tables[table_name].columns.CAIANW,\n",
    "            meta.tables[table_name].columns.CASIAM,\n",
    "            meta.tables[table_name].columns.CASIAW,\n",
    "            meta.tables[table_name].columns.CBKAAM,\n",
    "            meta.tables[table_name].columns.CBKAAW,\n",
    "            meta.tables[table_name].columns.CNHPIM,\n",
    "            meta.tables[table_name].columns.CNHPIW,\n",
    "            meta.tables[table_name].columns.CWHITM,\n",
    "            meta.tables[table_name].columns.CWHITW,\n",
    "            meta.tables[table_name].columns.C2MORM,\n",
    "            meta.tables[table_name].columns.C2MORW,\n",
    "            meta.tables[table_name].columns.CHISPT,\n",
    "            meta.tables[table_name].columns.CAIANT,\n",
    "            meta.tables[table_name].columns.CASIAT,\n",
    "            meta.tables[table_name].columns.CBKAAT,\n",
    "            meta.tables[table_name].columns.CNHPIT,\n",
    "            meta.tables[table_name].columns.CWHITT,\n",
    "            meta.tables[table_name].columns.C2MORT\n",
    "        ])\n",
    "        insert = c20xx_a_model.insert().from_select(\n",
    "            [\n",
    "                'reporting_year',\n",
    "                'unitid',\n",
    "                'cipcode',\n",
    "                'awlevel',\n",
    "                'majornum',\n",
    "                'cnralm',\n",
    "                'cnralw',\n",
    "                'cunknm',\n",
    "                'cunknw',\n",
    "                'ctotalm',\n",
    "                'ctotalw',\n",
    "                'cnralt',\n",
    "                'cunknt',\n",
    "                'ctotalt',\n",
    "                'chispm',\n",
    "                'chispw',\n",
    "                'caianm',\n",
    "                'caianw',\n",
    "                'casiam',\n",
    "                'casiaw',\n",
    "                'cbkaam',\n",
    "                'cbkaaw',\n",
    "                'cnhpim',\n",
    "                'cnhpiw',\n",
    "                'cwhitm',\n",
    "                'cwhitw',\n",
    "                'c2morm',\n",
    "                'c2morw',\n",
    "                'chispt',\n",
    "                'caiant',\n",
    "                'casiat',\n",
    "                'cbkaat',\n",
    "                'cnhpit',\n",
    "                'cwhitt',\n",
    "                'c2mort'\n",
    "            ],\n",
    "            sel\n",
    "        )\n",
    "    session.execute(insert)\n",
    "    session.commit()"
   ]
  },
  {
   "cell_type": "code",
   "execution_count": 11,
   "id": "223b5397",
   "metadata": {},
   "outputs": [
    {
     "name": "stdout",
     "output_type": "stream",
     "text": [
      "inserting  2012_staging_c2012_a\n",
      "inserting  2013_staging_c2013_a\n",
      "inserting  2014_staging_c2014_a\n",
      "inserting  2015_staging_c2015_a\n",
      "inserting  2016_staging_c2016_a\n",
      "inserting  2017_staging_c2017_a\n",
      "inserting  2018_staging_c2018_a\n",
      "inserting  2019_staging_c2019_a\n"
     ]
    }
   ],
   "source": [
    "for table in c20xx_a:\n",
    "    print(\"inserting \", table['table_name'])\n",
    "    insert_table_c20xx_a(table['table_name'], table['reporting_year'])"
   ]
  },
  {
   "cell_type": "code",
   "execution_count": null,
   "id": "1f4c93f1",
   "metadata": {},
   "outputs": [],
   "source": []
  }
 ],
 "metadata": {
  "kernelspec": {
   "display_name": "Python 3",
   "language": "python",
   "name": "python3"
  },
  "language_info": {
   "codemirror_mode": {
    "name": "ipython",
    "version": 3
   },
   "file_extension": ".py",
   "mimetype": "text/x-python",
   "name": "python",
   "nbconvert_exporter": "python",
   "pygments_lexer": "ipython3",
   "version": "3.9.5"
  }
 },
 "nbformat": 4,
 "nbformat_minor": 5
}
